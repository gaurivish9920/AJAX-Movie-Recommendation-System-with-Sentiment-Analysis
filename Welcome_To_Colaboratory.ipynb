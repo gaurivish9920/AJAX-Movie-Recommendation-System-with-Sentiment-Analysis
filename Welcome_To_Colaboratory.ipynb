{
  "nbformat": 4,
  "nbformat_minor": 0,
  "metadata": {
    "colab": {
      "name": "Welcome To Colaboratory",
      "provenance": [],
      "collapsed_sections": [],
      "include_colab_link": true
    },
    "kernelspec": {
      "display_name": "Python 3",
      "name": "python3"
    }
  },
  "cells": [
    {
      "cell_type": "markdown",
      "metadata": {
        "id": "view-in-github",
        "colab_type": "text"
      },
      "source": [
        "<a href=\"https://colab.research.google.com/github/gaurivish9920/AJAX-Movie-Recommendation-System-with-Sentiment-Analysis/blob/master/Welcome_To_Colaboratory.ipynb\" target=\"_parent\"><img src=\"https://colab.research.google.com/assets/colab-badge.svg\" alt=\"Open In Colab\"/></a>"
      ]
    },
    {
      "cell_type": "code",
      "metadata": {
        "id": "EvtiqB_QVZsp",
        "outputId": "18cfeeef-62c4-4746-ee81-69aec04e7b72",
        "colab": {
          "base_uri": "https://localhost:8080/"
        }
      },
      "source": [
        "#question 1 \n",
        "\n",
        "string =input()\n",
        "\n",
        "spcl=[]       \n",
        "listn=[]\n",
        "listi=[]\n",
        "for i in string:\n",
        "        \n",
        "        if i.isnumeric()==True:\n",
        "            \n",
        "            listn.append(i)\n",
        "           \n",
        "            \n",
        "        \n",
        "        elif i.isalpha()==True:\n",
        "            \n",
        "            listi.append(i)\n",
        "            \n",
        "        else:\n",
        "            spcl.append(i)\n",
        "            \n",
        "print('special characters   ', spcl) \n",
        "print('numbers   ', listn)\n",
        "print('alphabets    ', listi)"
      ],
      "execution_count": 1,
      "outputs": [
        {
          "output_type": "stream",
          "name": "stdout",
          "text": [
            "wdc12345?:>\"{\n",
            "special characters    ['?', ':', '>', '\"', '{']\n",
            "numbers    ['1', '2', '3', '4', '5']\n",
            "alphabets     ['w', 'd', 'c']\n"
          ]
        }
      ]
    },
    {
      "cell_type": "code",
      "metadata": {
        "id": "_s-BG3gBVze0",
        "outputId": "650b300d-0ba5-4261-d8ea-711e0c011ded",
        "colab": {
          "base_uri": "https://localhost:8080/"
        }
      },
      "source": [
        "#question 2 \n",
        "\n",
        "num = int(input())\n",
        "numr=str(num)[::-1]\n",
        "\n",
        "if int(numr)==num:\n",
        "    print(num,\" is a palindrome\")\n",
        "else:\n",
        "    print(\"Reversed number \",numr)\n",
        "    print(\"Hence \",num, \" is not a palindrome\")"
      ],
      "execution_count": 2,
      "outputs": [
        {
          "output_type": "stream",
          "name": "stdout",
          "text": [
            "121\n",
            "121  is a palindrome\n"
          ]
        }
      ]
    },
    {
      "cell_type": "code",
      "metadata": {
        "id": "_ip-ZzngV8du",
        "outputId": "5391c3ac-a858-4299-8e0c-4ada001ed9bf",
        "colab": {
          "base_uri": "https://localhost:8080/"
        }
      },
      "source": [
        "#question 3\n",
        "\n",
        "string = input()\n",
        "reversed_string = string[::-1]\n",
        "print(reversed_string)"
      ],
      "execution_count": 3,
      "outputs": [
        {
          "output_type": "stream",
          "name": "stdout",
          "text": [
            "This is me\n",
            "em si sihT\n"
          ]
        }
      ]
    },
    {
      "cell_type": "code",
      "metadata": {
        "id": "q5X5IuMTWCxo",
        "outputId": "f40adb65-186b-45b6-810a-5a5b85406feb",
        "colab": {
          "base_uri": "https://localhost:8080/"
        }
      },
      "source": [
        "#question 4 \n",
        "stg=input()\n",
        "strg = stg.replace(\" \",\"\")\n",
        "strgr=strg[::-1]\n",
        "\n",
        "if strgr==strg:\n",
        "    print(\"Reversed string: \",strgr)\n",
        "    print(stg,\" is a palindrome\")\n",
        "else:\n",
        "    print(\"Reversed string: \",strgr)\n",
        "    print(\"Hence \",stg, \" is not a palindrome\")"
      ],
      "execution_count": 4,
      "outputs": [
        {
          "output_type": "stream",
          "name": "stdout",
          "text": [
            "madam\n",
            "Reversed string:  madam\n",
            "madam  is a palindrome\n"
          ]
        }
      ]
    },
    {
      "cell_type": "code",
      "metadata": {
        "id": "4sXMUqCmWHQq",
        "outputId": "677d6482-e8ad-4374-af55-ce918c75641c",
        "colab": {
          "base_uri": "https://localhost:8080/"
        }
      },
      "source": [
        "#question 5\n",
        "n = int(input(\"Enter a number: \"))\n",
        "a=0\n",
        "b=1\n",
        "sum=0\n",
        "count=0\n",
        "print(\"The fibonacci sequence is:\")\n",
        "while(count<=n):\n",
        "    print(sum, end=\" \")\n",
        "    count+=1\n",
        "    a=b\n",
        "    b=sum\n",
        "    sum=a+b"
      ],
      "execution_count": 5,
      "outputs": [
        {
          "output_type": "stream",
          "name": "stdout",
          "text": [
            "Enter a number: 5\n",
            "The fibonacci sequence is:\n",
            "0 1 1 2 3 5 "
          ]
        }
      ]
    },
    {
      "cell_type": "code",
      "metadata": {
        "id": "7GF6NjmGWJb6",
        "outputId": "d9056723-b7f2-439e-b5a6-69fbd0d16663",
        "colab": {
          "base_uri": "https://localhost:8080/"
        }
      },
      "source": [
        "#question 6\n",
        "\n",
        "link = \"When you click Online Video, you can paste in the embed code for the video you want to add, and play as you wish.\"\n",
        "print(\"The lower case of the string:\")\n",
        "print(link.lower())\n",
        "print('----------------------------------------------------------------------------')\n",
        "print(\"Splitting at paste and add: \")\n",
        "print(link.split(\"paste\"))\n",
        "print(link.split(\"add\"))\n",
        "print('----------------------------------------------------------------------------')\n",
        "#Create a new string from the four substrings obtained in the above step by joining them in the order .\n",
        "\n",
        "print(\"Joining above string: \")\n",
        "new_strg=link.split(\"add\")[1]+link.split(\"add\")[0]+link.split(\"paste\")[1]+link.split(\"paste\")[0]\n",
        "print(new_strg)\n",
        "print('----------------------------------------------------------------------------')\n",
        "#Replace the occurrence of the vowels u and i with I and U and later count the occurrence of the word lU in the replaced string.\n",
        "print(\"Replaced Strings\")\n",
        "replaced = link.replace('u','I')\n",
        "replaced1= replaced.replace('i','U')\n",
        "print(replaced)\n",
        "print(replaced1)\n",
        "\n",
        "print(replaced1.count('lU'))\n",
        "\n",
        "print('----------------------------------------------------------------------------')\n",
        "###Split the string exactly into three equal parts and display them.\n",
        "\n",
        "length = len(link);   \n",
        " \n",
        "n = 3;  #number of parts\n",
        "  \n",
        "characs = int(length/n); #number of characters to be considered for equal partition in one part \n",
        "\n",
        "string_eqlen = [];   \n",
        " \n",
        "if(length % n != 0):  #if the length cannot be partitioned exactly equally\n",
        "       print(\"Sorry this string cannot be divided into {} equal parts.\".format(n));  \n",
        "else:  \n",
        "    for i in range(0, length, chars):  \n",
        "         \n",
        "        part = str[ i : i+chars];  \n",
        "        equalStr.append(part);  \n",
        "    print(\"Equal parts of given string are\");  \n",
        "    for i in equalStr:  \n",
        "        print(i)\n",
        "\n",
        "\n"
      ],
      "execution_count": 6,
      "outputs": [
        {
          "output_type": "stream",
          "name": "stdout",
          "text": [
            "The lower case of the string:\n",
            "when you click online video, you can paste in the embed code for the video you want to add, and play as you wish.\n",
            "----------------------------------------------------------------------------\n",
            "Splitting at paste and add: \n",
            "['When you click Online Video, you can ', ' in the embed code for the video you want to add, and play as you wish.']\n",
            "['When you click Online Video, you can paste in the embed code for the video you want to ', ', and play as you wish.']\n",
            "----------------------------------------------------------------------------\n",
            "Joining above string: \n",
            ", and play as you wish.When you click Online Video, you can paste in the embed code for the video you want to  in the embed code for the video you want to add, and play as you wish.When you click Online Video, you can \n",
            "----------------------------------------------------------------------------\n",
            "Replaced Strings\n",
            "When yoI click Online Video, yoI can paste in the embed code for the video yoI want to add, and play as yoI wish.\n",
            "When yoI clUck OnlUne VUdeo, yoI can paste Un the embed code for the vUdeo yoI want to add, and play as yoI wUsh.\n",
            "2\n",
            "----------------------------------------------------------------------------\n",
            "Sorry this string cannot be divided into 3 equal parts.\n"
          ]
        }
      ]
    },
    {
      "cell_type": "code",
      "metadata": {
        "id": "ohuwck47WQ4w",
        "outputId": "ad2f51e2-2d3e-4c3e-c009-d754d100460a",
        "colab": {
          "base_uri": "https://localhost:8080/"
        }
      },
      "source": [
        "#question 7\n",
        "\"\"\"\n",
        "Write a Python function equallasttext(str1,str2,n) which takes three\n",
        "arguments, the first two being strings str1 , str2 and the last one being a\n",
        "positive integer . The program should return True if the last characters of the\n",
        "str1 and str2 are equal and returns False otherwise.\n",
        "\n",
        "\"\"\"\n",
        "\n",
        "def equallasttext(str1,str2,n):\n",
        "    if str1[-n:]==str2[-n:]:\n",
        "        return True\n",
        "    else:\n",
        "        return False\n",
        "    \n",
        "    \n",
        "equallasttext('ijkl','ijkl',2)"
      ],
      "execution_count": 8,
      "outputs": [
        {
          "output_type": "execute_result",
          "data": {
            "text/plain": [
              "True"
            ]
          },
          "metadata": {},
          "execution_count": 8
        }
      ]
    },
    {
      "cell_type": "code",
      "metadata": {
        "id": "0z5atAlbWT9n",
        "outputId": "1b93764b-a2ee-467d-f849-056bf479b4c7",
        "colab": {
          "base_uri": "https://localhost:8080/",
          "height": 35
        }
      },
      "source": [
        "def divsum(x):\n",
        "    sum = 1\n",
        "    for i in range(2, x):\n",
        "        if x % i == 0:\n",
        "            sum += i\n",
        "    return sum\n",
        " \n",
        "# Check if pair is amicable\n",
        "def isAmicable(a, b):\n",
        "    if divsum(a) == b and divsum(b) == a:\n",
        "        return True\n",
        "    \n",
        "\n",
        "#Check is the number is perfect    \n",
        "def isPerfect(a):\n",
        "    if divsum(a)==a:\n",
        "        return True\n",
        "    \n",
        "def num_type(n,m=0):\n",
        "    if isPerfect(n)==True:\n",
        "        return \"The number is Perfect.\"\n",
        "    elif isAmicable(n,m)==True:\n",
        "        return \"The pair is amicable.\"\n",
        "    else:\n",
        "        return \"Neither, none of the types\"\n",
        "    \n",
        "num_type(2924,2620)"
      ],
      "execution_count": 9,
      "outputs": [
        {
          "output_type": "execute_result",
          "data": {
            "application/vnd.google.colaboratory.intrinsic+json": {
              "type": "string"
            },
            "text/plain": [
              "'The pair is amicable.'"
            ]
          },
          "metadata": {},
          "execution_count": 9
        }
      ]
    },
    {
      "cell_type": "code",
      "metadata": {
        "id": "UqMacaJOWfJ_",
        "outputId": "d2a368fe-6f00-4c68-ff3b-2b73ae1baed8",
        "colab": {
          "base_uri": "https://localhost:8080/",
          "height": 35
        }
      },
      "source": [
        "num_type(6)"
      ],
      "execution_count": 10,
      "outputs": [
        {
          "output_type": "execute_result",
          "data": {
            "application/vnd.google.colaboratory.intrinsic+json": {
              "type": "string"
            },
            "text/plain": [
              "'The number is Perfect.'"
            ]
          },
          "metadata": {},
          "execution_count": 10
        }
      ]
    },
    {
      "cell_type": "code",
      "metadata": {
        "id": "K1pAwQE4Wh3b"
      },
      "source": [
        ""
      ],
      "execution_count": null,
      "outputs": []
    }
  ]
}